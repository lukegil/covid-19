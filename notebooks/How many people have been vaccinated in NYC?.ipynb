{
 "cells": [
  {
   "cell_type": "code",
   "execution_count": 1,
   "metadata": {},
   "outputs": [],
   "source": [
    "import os\n",
    "import pandas as pd\n",
    "import matplotlib\n",
    "from datetime import datetime\n",
    "from IPython.display import display, Markdown"
   ]
  },
  {
   "cell_type": "code",
   "execution_count": 2,
   "metadata": {},
   "outputs": [],
   "source": [
    "covid_data_dir = '../raw_data/nyc/covid19-vaccine/'\n",
    "covid_filename = 'Population Vaccinated_Migrated Data.tsv'\n",
    "last_dir = sorted(\n",
    "    [p for p in os.listdir(covid_data_dir) \n",
    "         if os.path.isdir(os.path.join(covid_data_dir, p))]\n",
    "    )[-1]\n",
    "\n",
    "VACCINATION_DATA = os.path.join(covid_data_dir, last_dir, covid_filename)\n",
    "CENSUS_DATA = '../raw_data/nyc/census/2019-NYS-population-estimates_census-gov.csv'\n",
    "\n",
    "NYC_CENSUS_NAME = 'New York city'\n",
    "\n",
    "DAILY = 'Daily ' # Trailing space required\n",
    "\n",
    "HERD_PERCENT = 0.85 # https://www.vox.com/coronavirus-covid19/2020/12/15/22176555/anthony-fauci-covid-19-vaccine-herd-immunity-goal"
   ]
  },
  {
   "cell_type": "code",
   "execution_count": 3,
   "metadata": {},
   "outputs": [],
   "source": [
    "vax_raw = pd.read_csv(VACCINATION_DATA, sep='\\t', encoding = 'utf-16')\n",
    "census_raw = pd.read_csv(CENSUS_DATA)"
   ]
  },
  {
   "cell_type": "code",
   "execution_count": 4,
   "metadata": {},
   "outputs": [
    {
     "data": {
      "text/html": [
       "<div>\n",
       "<style scoped>\n",
       "    .dataframe tbody tr th:only-of-type {\n",
       "        vertical-align: middle;\n",
       "    }\n",
       "\n",
       "    .dataframe tbody tr th {\n",
       "        vertical-align: top;\n",
       "    }\n",
       "\n",
       "    .dataframe thead th {\n",
       "        text-align: right;\n",
       "    }\n",
       "</style>\n",
       "<table border=\"1\" class=\"dataframe\">\n",
       "  <thead>\n",
       "    <tr style=\"text-align: right;\">\n",
       "      <th></th>\n",
       "      <th>Cumulative or daily</th>\n",
       "      <th>Date</th>\n",
       "      <th>Residency_state</th>\n",
       "      <th>Today</th>\n",
       "      <th>Dose 1 cumultive</th>\n",
       "      <th>Dose 1 daily</th>\n",
       "      <th>Dose 2 cumulative</th>\n",
       "      <th>Dose 2 daily</th>\n",
       "      <th>Number of Records</th>\n",
       "      <th>Total Doses Administered</th>\n",
       "    </tr>\n",
       "  </thead>\n",
       "  <tbody>\n",
       "    <tr>\n",
       "      <th>0</th>\n",
       "      <td>Cumulative</td>\n",
       "      <td>12/14/2020</td>\n",
       "      <td>NYC</td>\n",
       "      <td>1/26/2021</td>\n",
       "      <td>NaN</td>\n",
       "      <td>57</td>\n",
       "      <td>NaN</td>\n",
       "      <td>1</td>\n",
       "      <td>1</td>\n",
       "      <td>58</td>\n",
       "    </tr>\n",
       "    <tr>\n",
       "      <th>1</th>\n",
       "      <td>Cumulative</td>\n",
       "      <td>12/14/2020</td>\n",
       "      <td>NY State</td>\n",
       "      <td>1/26/2021</td>\n",
       "      <td>NaN</td>\n",
       "      <td>10</td>\n",
       "      <td>NaN</td>\n",
       "      <td>0</td>\n",
       "      <td>1</td>\n",
       "      <td>10</td>\n",
       "    </tr>\n",
       "    <tr>\n",
       "      <th>2</th>\n",
       "      <td>Cumulative</td>\n",
       "      <td>12/14/2020</td>\n",
       "      <td>New Jersey</td>\n",
       "      <td>1/26/2021</td>\n",
       "      <td>NaN</td>\n",
       "      <td>9</td>\n",
       "      <td>NaN</td>\n",
       "      <td>0</td>\n",
       "      <td>1</td>\n",
       "      <td>9</td>\n",
       "    </tr>\n",
       "    <tr>\n",
       "      <th>3</th>\n",
       "      <td>Cumulative</td>\n",
       "      <td>12/14/2020</td>\n",
       "      <td>Connecticut</td>\n",
       "      <td>1/26/2021</td>\n",
       "      <td>NaN</td>\n",
       "      <td>1</td>\n",
       "      <td>NaN</td>\n",
       "      <td>0</td>\n",
       "      <td>1</td>\n",
       "      <td>1</td>\n",
       "    </tr>\n",
       "    <tr>\n",
       "      <th>4</th>\n",
       "      <td>Cumulative</td>\n",
       "      <td>12/14/2020</td>\n",
       "      <td>Other</td>\n",
       "      <td>1/26/2021</td>\n",
       "      <td>NaN</td>\n",
       "      <td>0</td>\n",
       "      <td>NaN</td>\n",
       "      <td>0</td>\n",
       "      <td>1</td>\n",
       "      <td>0</td>\n",
       "    </tr>\n",
       "    <tr>\n",
       "      <th>...</th>\n",
       "      <td>...</td>\n",
       "      <td>...</td>\n",
       "      <td>...</td>\n",
       "      <td>...</td>\n",
       "      <td>...</td>\n",
       "      <td>...</td>\n",
       "      <td>...</td>\n",
       "      <td>...</td>\n",
       "      <td>...</td>\n",
       "      <td>...</td>\n",
       "    </tr>\n",
       "    <tr>\n",
       "      <th>253</th>\n",
       "      <td>Cumulative</td>\n",
       "      <td>1/25/2021</td>\n",
       "      <td>NY State</td>\n",
       "      <td>1/26/2021</td>\n",
       "      <td>80186.0</td>\n",
       "      <td>1395</td>\n",
       "      <td>16839.0</td>\n",
       "      <td>1305</td>\n",
       "      <td>1</td>\n",
       "      <td>2700</td>\n",
       "    </tr>\n",
       "    <tr>\n",
       "      <th>254</th>\n",
       "      <td>Cumulative</td>\n",
       "      <td>1/25/2021</td>\n",
       "      <td>New Jersey</td>\n",
       "      <td>1/26/2021</td>\n",
       "      <td>15265.0</td>\n",
       "      <td>180</td>\n",
       "      <td>8519.0</td>\n",
       "      <td>970</td>\n",
       "      <td>1</td>\n",
       "      <td>1150</td>\n",
       "    </tr>\n",
       "    <tr>\n",
       "      <th>255</th>\n",
       "      <td>Cumulative</td>\n",
       "      <td>1/25/2021</td>\n",
       "      <td>Connecticut</td>\n",
       "      <td>1/26/2021</td>\n",
       "      <td>1899.0</td>\n",
       "      <td>23</td>\n",
       "      <td>772.0</td>\n",
       "      <td>88</td>\n",
       "      <td>1</td>\n",
       "      <td>111</td>\n",
       "    </tr>\n",
       "    <tr>\n",
       "      <th>256</th>\n",
       "      <td>Cumulative</td>\n",
       "      <td>1/25/2021</td>\n",
       "      <td>Other</td>\n",
       "      <td>1/26/2021</td>\n",
       "      <td>3016.0</td>\n",
       "      <td>30</td>\n",
       "      <td>1291.0</td>\n",
       "      <td>148</td>\n",
       "      <td>1</td>\n",
       "      <td>178</td>\n",
       "    </tr>\n",
       "    <tr>\n",
       "      <th>257</th>\n",
       "      <td>Cumulative</td>\n",
       "      <td>1/25/2021</td>\n",
       "      <td>Unknown</td>\n",
       "      <td>1/26/2021</td>\n",
       "      <td>16043.0</td>\n",
       "      <td>152</td>\n",
       "      <td>495.0</td>\n",
       "      <td>38</td>\n",
       "      <td>1</td>\n",
       "      <td>190</td>\n",
       "    </tr>\n",
       "  </tbody>\n",
       "</table>\n",
       "<p>258 rows × 10 columns</p>\n",
       "</div>"
      ],
      "text/plain": [
       "    Cumulative or daily        Date Residency_state      Today  \\\n",
       "0            Cumulative  12/14/2020             NYC  1/26/2021   \n",
       "1            Cumulative  12/14/2020        NY State  1/26/2021   \n",
       "2            Cumulative  12/14/2020      New Jersey  1/26/2021   \n",
       "3            Cumulative  12/14/2020     Connecticut  1/26/2021   \n",
       "4            Cumulative  12/14/2020           Other  1/26/2021   \n",
       "..                  ...         ...             ...        ...   \n",
       "253          Cumulative   1/25/2021        NY State  1/26/2021   \n",
       "254          Cumulative   1/25/2021      New Jersey  1/26/2021   \n",
       "255          Cumulative   1/25/2021     Connecticut  1/26/2021   \n",
       "256          Cumulative   1/25/2021           Other  1/26/2021   \n",
       "257          Cumulative   1/25/2021         Unknown  1/26/2021   \n",
       "\n",
       "     Dose 1 cumultive  Dose 1 daily  Dose 2 cumulative  Dose 2 daily  \\\n",
       "0                 NaN            57                NaN             1   \n",
       "1                 NaN            10                NaN             0   \n",
       "2                 NaN             9                NaN             0   \n",
       "3                 NaN             1                NaN             0   \n",
       "4                 NaN             0                NaN             0   \n",
       "..                ...           ...                ...           ...   \n",
       "253           80186.0          1395            16839.0          1305   \n",
       "254           15265.0           180             8519.0           970   \n",
       "255            1899.0            23              772.0            88   \n",
       "256            3016.0            30             1291.0           148   \n",
       "257           16043.0           152              495.0            38   \n",
       "\n",
       "     Number of Records  Total Doses Administered  \n",
       "0                    1                        58  \n",
       "1                    1                        10  \n",
       "2                    1                         9  \n",
       "3                    1                         1  \n",
       "4                    1                         0  \n",
       "..                 ...                       ...  \n",
       "253                  1                      2700  \n",
       "254                  1                      1150  \n",
       "255                  1                       111  \n",
       "256                  1                       178  \n",
       "257                  1                       190  \n",
       "\n",
       "[258 rows x 10 columns]"
      ]
     },
     "execution_count": 4,
     "metadata": {},
     "output_type": "execute_result"
    }
   ],
   "source": [
    "vax_raw"
   ]
  },
  {
   "cell_type": "code",
   "execution_count": 5,
   "metadata": {},
   "outputs": [],
   "source": [
    "vax_clean = vax_raw.copy()\n",
    "vax_clean['Date'] = pd.to_datetime(vax_raw['Date'])\n",
    "vax_clean['Today'] = pd.to_datetime(vax_raw['Today'])\n",
    "\n",
    "## Trim to necessary columns\n",
    "vax_clean = vax_clean[['Date', 'Residency_state', 'Dose 2 daily', 'Dose 1 daily']]\n",
    "\n",
    "## grouped by preceding Sunday, so we can remove daily seasonality (aka weekends are low)\n",
    "vax_clean['Week Start'] = vax_clean['Date'].apply(lambda d: d - pd.to_timedelta(((d.weekday() + 1) % 7), unit='d'))\n",
    "vax_weekly = vax_clean.groupby(['Week Start', 'Residency_state'], as_index=False).sum()\n",
    "\n",
    "## Create an NYC only set for comparing to population\n",
    "vax_nyc = vax_clean[vax_clean['Residency_state'] == 'NYC']\n",
    "vax_nyc_weekly = vax_nyc.groupby(['Week Start', 'Residency_state'], as_index=False).sum()"
   ]
  },
  {
   "cell_type": "code",
   "execution_count": 6,
   "metadata": {},
   "outputs": [],
   "source": [
    "## One way this is obviously wrong is that since a lot of people have gotten covid in NYC, they (might?) already have immunity\n",
    "\n",
    "NYC_2019_POP = census_raw[census_raw['NAME'] == NYC_CENSUS_NAME].iloc[0].loc['POPESTIMATE2019']\n",
    "NYC_VACCINATION_NUMBER = NYC_2019_POP * HERD_PERCENT"
   ]
  },
  {
   "cell_type": "markdown",
   "metadata": {},
   "source": [
    "# How many people were vaccinated yesterday?"
   ]
  },
  {
   "cell_type": "code",
   "execution_count": 7,
   "metadata": {},
   "outputs": [
    {
     "data": {
      "text/markdown": [
       "### On Jan 25, 5,261 people received their first shot and 6,280 received their second shot"
      ],
      "text/plain": [
       "<IPython.core.display.Markdown object>"
      ]
     },
     "execution_count": 7,
     "metadata": {},
     "output_type": "execute_result"
    }
   ],
   "source": [
    "yesterday = vax_nyc.sort_values('Date').iloc[-1]\n",
    "date = yesterday.loc['Date'].strftime('%b %d')\n",
    "partial = yesterday.loc['Dose 1 daily']\n",
    "second = yesterday.loc['Dose 2 daily']\n",
    "\n",
    "Markdown(f'### On {date}, {partial:,} people received their first shot and {second:,} received their second shot')"
   ]
  },
  {
   "cell_type": "markdown",
   "metadata": {},
   "source": [
    "# How many people have been vaccinated?"
   ]
  },
  {
   "cell_type": "code",
   "execution_count": 8,
   "metadata": {},
   "outputs": [
    {
     "data": {
      "text/markdown": [
       "### 4.88% of NYC has received the first dose"
      ],
      "text/plain": [
       "<IPython.core.display.Markdown object>"
      ]
     },
     "metadata": {},
     "output_type": "display_data"
    },
    {
     "data": {
      "text/plain": [
       "<AxesSubplot:>"
      ]
     },
     "execution_count": 8,
     "metadata": {},
     "output_type": "execute_result"
    },
    {
     "data": {
      "image/png": "[encoded data removed]",
      "text/plain": [
       "<Figure size 432x288 with 1 Axes>"
      ]
     },
     "metadata": {
      "needs_background": "light"
     },
     "output_type": "display_data"
    }
   ],
   "source": [
    "first_shots = vax_nyc.sum()['Dose 1 daily']\n",
    "\n",
    "perc_of_pop = first_shots / NYC_2019_POP\n",
    "pop_pretty = f'{perc_of_pop:.2%}'\n",
    "\n",
    "display(Markdown(f'### {pop_pretty} of NYC has received the first dose'))\n",
    "\n",
    "df = pd.DataFrame(\n",
    "    [first_shots, NYC_VACCINATION_NUMBER, NYC_2019_POP], \n",
    "    index=['Have received first shot', 'Herd Immunity', 'All of NYC'], \n",
    "    columns=['people'])\n",
    "df.plot.bar()\n"
   ]
  },
  {
   "cell_type": "markdown",
   "metadata": {},
   "source": [
    "# How quickly are we vaccinating?"
   ]
  },
  {
   "cell_type": "code",
   "execution_count": 9,
   "metadata": {},
   "outputs": [
    {
     "data": {
      "text/plain": [
       "<AxesSubplot:title={'center':'Total vaccinated per week'}, xlabel='Week Start'>"
      ]
     },
     "execution_count": 9,
     "metadata": {},
     "output_type": "execute_result"
    },
    {
     "data": {
      "image/png": "[encoded data removed]",
      "text/plain": [
       "<Figure size 432x288 with 1 Axes>"
      ]
     },
     "metadata": {
      "needs_background": "light"
     },
     "output_type": "display_data"
    }
   ],
   "source": [
    "vax_nyc_weekly.plot(x='Week Start', title='Total vaccinated per week')"
   ]
  },
  {
   "cell_type": "code",
   "execution_count": 10,
   "metadata": {},
   "outputs": [
    {
     "data": {
      "image/png": "[encoded data removed]",
      "text/plain": [
       "<Figure size 432x288 with 1 Axes>"
      ]
     },
     "metadata": {
      "needs_background": "light"
     },
     "output_type": "display_data"
    }
   ],
   "source": [
    "ax = vax_nyc.plot.bar(x='Date', y='Dose 1 daily', title='People receiving first doses by day')\n",
    "for i, t in enumerate(ax.get_xticklabels()):\n",
    "    if i % 7:\n",
    "        t.set_visible(False)\n"
   ]
  },
  {
   "cell_type": "markdown",
   "metadata": {},
   "source": [
    "# How long until we reach immunity?"
   ]
  },
  {
   "cell_type": "code",
   "execution_count": 13,
   "metadata": {},
   "outputs": [],
   "source": [
    "avg_last_7 = vax_nyc.sort_values('Date').tail(7).mean(numeric_only=True)['Dose 1 daily']\n",
    "avg_prev_7 = vax_nyc.sort_values('Date').tail(14).head(7).mean(numeric_only=True)['Dose 1 daily']\n",
    "\n",
    "# growth = avg_last_7 - avg_prev_7\n",
    "\n",
    "## 2021-01-24 - can't calculate. Growth is negative. \n",
    "# weeks = 0\n",
    "# this_week = avg_last_7\n",
    "# while this_week <= NYC_VACCINATION_NUMBER:\n",
    "#     weeks += 1\n",
    "#     this_week += growth\n",
    "\n",
    "# Markdown(f'### It will take _{weeks:,}_ weeks to vaccinate enough people, based on current linear growth rates')"
   ]
  },
  {
   "cell_type": "code",
   "execution_count": 14,
   "metadata": {},
   "outputs": [
    {
     "data": {
      "text/plain": [
       "13936.714285714286"
      ]
     },
     "execution_count": 14,
     "metadata": {},
     "output_type": "execute_result"
    }
   ],
   "source": [
    "avg_last_7"
   ]
  },
  {
   "cell_type": "code",
   "execution_count": 15,
   "metadata": {},
   "outputs": [
    {
     "data": {
      "text/plain": [
       "20343.85714285714"
      ]
     },
     "execution_count": 15,
     "metadata": {},
     "output_type": "execute_result"
    }
   ],
   "source": [
    "avg_prev_7"
   ]
  },
  {
   "cell_type": "code",
   "execution_count": null,
   "metadata": {},
   "outputs": [],
   "source": []
  }
 ],
 "metadata": {
  "kernelspec": {
   "display_name": "Python 3",
   "language": "python",
   "name": "python3"
  },
  "language_info": {
   "codemirror_mode": {
    "name": "ipython",
    "version": 3
   },
   "file_extension": ".py",
   "mimetype": "text/x-python",
   "name": "python",
   "nbconvert_exporter": "python",
   "pygments_lexer": "ipython3",
   "version": "3.9.1"
  }
 },
 "nbformat": 4,
 "nbformat_minor": 4
}
