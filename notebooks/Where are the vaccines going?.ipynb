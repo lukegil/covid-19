{
 "cells": [
  {
   "cell_type": "code",
   "execution_count": 1,
   "metadata": {},
   "outputs": [],
   "source": [
    "import os\n",
    "import pandas as pd\n",
    "import matplotlib\n",
    "from datetime import datetime\n",
    "from IPython.display import display, Markdown"
   ]
  },
  {
   "cell_type": "code",
   "execution_count": 2,
   "metadata": {},
   "outputs": [],
   "source": [
    "covid_data_dir = '../raw_data/nyc/covid19-vaccine/'\n",
    "covid_filename = 'Population Vaccinated + Doses Administered_Migrated Data.tsv'\n",
    "last_dir = sorted(\n",
    "    [p for p in os.listdir(covid_data_dir) \n",
    "         if os.path.isdir(os.path.join(covid_data_dir, p))]\n",
    "    )[-1]\n",
    "\n",
    "VACCINATION_DATA = os.path.join(covid_data_dir, last_dir, covid_filename)\n",
    "CENSUS_DATA = '../raw_data/nyc/census/2019-NYS-population-estimates_census-gov.csv'\n",
    "\n",
    "NYC_CENSUS_NAME = 'New York city'\n",
    "\n",
    "DAILY = 'Daily ' # Trailing space required\n",
    "\n"
   ]
  },
  {
   "cell_type": "code",
   "execution_count": 3,
   "metadata": {},
   "outputs": [],
   "source": [
    "vax_raw = pd.read_csv(VACCINATION_DATA, sep='\\t', encoding = 'utf-16')\n"
   ]
  },
  {
   "cell_type": "code",
   "execution_count": 17,
   "metadata": {},
   "outputs": [
    {
     "data": {
      "image/png": "[encoded data removed]",
      "text/plain": [
       "<Figure size 432x288 with 1 Axes>"
      ]
     },
     "metadata": {
      "needs_background": "light"
     },
     "output_type": "display_data"
    }
   ],
   "source": [
    "first_shot_col = 'N partially vaccinated'\n",
    "state_col = 'Residency_state'\n",
    "\n",
    "first_shots = vax_raw[[state_col, first_shot_col]].copy()\n",
    "total = first_shots.sum()[first_shot_col]\n",
    "first_shots['percent_first_shots'] = first_shots[first_shot_col] / total\n",
    "\n",
    "first_by_loc = first_shots.groupby(state_col).sum().sort_values('percent_first_shots')\n",
    "ax = first_by_loc.plot.bar(y='percent_first_shots', )\n",
    "ax.set_ylim([0, 1])\n",
    "\n"
   ]
  },
  {
   "cell_type": "code",
   "execution_count": null,
   "metadata": {},
   "outputs": [],
   "source": []
  },
  {
   "cell_type": "code",
   "execution_count": 31,
   "metadata": {},
   "outputs": [
    {
     "data": {
      "text/markdown": [
       "### _73.5%_ of vaccines go to NYC residents and _90.7%_ go to those who live in New York State."
      ],
      "text/plain": [
       "<IPython.core.display.Markdown object>"
      ]
     },
     "execution_count": 31,
     "metadata": {},
     "output_type": "execute_result"
    }
   ],
   "source": [
    "nyc_perc = first_by_loc[first_by_loc.index == 'NYC']['percent_first_shots'].iloc[0]\n",
    "nys_perc = first_by_loc[first_by_loc.index == 'NYS']['percent_first_shots'].iloc[0]\n",
    "\n",
    "Markdown(f'### _{(nyc_perc * 100):.{1}f}%_ of vaccines go to NYC residents and _{(nyc_perc + nys_perc) * 100:.{1}f}%_ go to those who live in New York State.')\n"
   ]
  },
  {
   "cell_type": "code",
   "execution_count": null,
   "metadata": {},
   "outputs": [],
   "source": []
  }
 ],
 "metadata": {
  "kernelspec": {
   "display_name": "Python 3",
   "language": "python",
   "name": "python3"
  },
  "language_info": {
   "codemirror_mode": {
    "name": "ipython",
    "version": 3
   },
   "file_extension": ".py",
   "mimetype": "text/x-python",
   "name": "python",
   "nbconvert_exporter": "python",
   "pygments_lexer": "ipython3",
   "version": "3.9.1"
  }
 },
 "nbformat": 4,
 "nbformat_minor": 4
}
